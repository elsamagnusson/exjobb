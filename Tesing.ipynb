{
 "cells": [
  {
   "cell_type": "markdown",
   "id": "844edd2b-6bb0-44a6-8479-ac84965f0504",
   "metadata": {},
   "source": [
    "## Steg 1 - Hämta in relevant information i for av csv-filer"
   ]
  },
  {
   "cell_type": "markdown",
   "id": "36cdad48-c474-4a9d-8924-bbbf15255e96",
   "metadata": {},
   "source": [
    "For the evaluation will the following data be required: \n",
    "\n",
    "• Datum- och tidsstämpel \n",
    "\n",
    "• Flöde för värmeöverföringsmediet \n",
    "\n",
    "• Inlopps- och utloppstemperatur från solfångarfältet \n",
    "\n",
    "• Temperatur vid flödesmätning \n",
    "\n",
    "• Vindhastighet \n",
    "\n",
    "• Omgivningstemperatur \n",
    "\n",
    "• Solinstrålning (pyranometer och pyrheliometer, se Figur 6) \n",
    "\n",
    "• Temperaturderivatan – ϑm/dt för varje tidssteg, se (2)1F\n",
    "4\n",
    ". Där ϑm är skillnaden i \n",
    "medeltemperatur över solfångaren/fältet för det uppmätta tidssteget. \n",
    "\n",
    "• Temperatur (och flöde) i varje delkrets för att kunna ta hänsyn till rörförlusterna. \n",
    "\n",
    "• Eftersom solfångarna har inbyggd solföljning så behöver också solfångarnas vinkel \n",
    "(mot horisontalplanet) mätas och loggas kontinuerligt."
   ]
  },
  {
   "cell_type": "markdown",
   "id": "c095bd9f-c0f0-4a1c-9e2d-9e98168c9351",
   "metadata": {},
   "source": [
    "#### Utmaningar:\n",
    "- alla csv-filer får samma namn när de laddas ned från databas. Hur ska vi hantera det samtidigt som de hålls isär?\n",
    "- Struktur på Notebooken? Hur vill vi att resultat och output ska se ut?\n",
    "- Hur mycket ska programmet kunna känna av själv (Ex. vilken typ av storhet som mäts baserat på variabelnamn?), och vad ska \"hårdkodas\"\n",
    "- Idag kan endast 4 parametrar/csv-fil hämtas ned. Opraktiskt. FIXAT\n",
    "- Table of contents. Tänk igenom rubriksättnig\n",
    "- remember to cite PVlib\n"
   ]
  },
  {
   "cell_type": "code",
   "execution_count": 1,
   "id": "25437c03-eac5-4d42-8bed-730bffe1a144",
   "metadata": {},
   "outputs": [],
   "source": [
    "# Import packages\n",
    "\n",
    "import pandas as pd\n",
    "import numpy as np\n",
    "\n",
    "# Plotting tools\n",
    "import plotly.express as px\n",
    "import matplotlib.pyplot as plt"
   ]
  },
  {
   "cell_type": "code",
   "execution_count": 2,
   "id": "2c8a1db3-c6a7-490d-8fae-2f985d4f4044",
   "metadata": {},
   "outputs": [],
   "source": [
    "# Inhämtning av data"
   ]
  },
  {
   "cell_type": "code",
   "execution_count": 3,
   "id": "891dc1a8-6946-4da3-8809-b73d4d7a936a",
   "metadata": {},
   "outputs": [],
   "source": [
    "'''Function takes name of csv-file. \n",
    "    Return: two pandas dataframes'''\n",
    "\n",
    "def import_file(filename):\n",
    "    # Här sparar jag ned en annan tillfällig fil. Borde gå att lösa snyggare. \n",
    "    # Gör detta för att få bort \" - tecken, vilka gör hanteringen av data lite jobbig. \n",
    "    # Ramez jobbar på bättre exportering av data här. Jag låter funktionen vara\n",
    "    \n",
    "    with open(filename) as f_in, open(\"temp.csv\", 'w') as f_out:\n",
    "        for line in f_in:\n",
    "            line = line.replace('\"','')\n",
    "            f_out.write(line)\n",
    "\n",
    "    import pandas as pd\n",
    "    df = pd.read_csv('temp.csv',sep = ',',engine = 'python')\n",
    "\n",
    "    # remove temp. file\n",
    "    import os\n",
    "    os.remove('temp.csv')\n",
    "    \n",
    "    df2 = df.pivot(index = 'Timestamp', columns = 'Channel Name', values = 'Value')\n",
    "\n",
    "    return df2"
   ]
  },
  {
   "cell_type": "code",
   "execution_count": 4,
   "id": "cc82e43c-de87-4f5f-a582-e91889f4d1f7",
   "metadata": {},
   "outputs": [
    {
     "data": {
      "text/html": [
       "<div>\n",
       "<style scoped>\n",
       "    .dataframe tbody tr th:only-of-type {\n",
       "        vertical-align: middle;\n",
       "    }\n",
       "\n",
       "    .dataframe tbody tr th {\n",
       "        vertical-align: top;\n",
       "    }\n",
       "\n",
       "    .dataframe thead th {\n",
       "        text-align: right;\n",
       "    }\n",
       "</style>\n",
       "<table border=\"1\" class=\"dataframe\">\n",
       "  <thead>\n",
       "    <tr style=\"text-align: right;\">\n",
       "      <th>Channel Name</th>\n",
       "      <th>SVS-GT2A_TEMPERATURE</th>\n",
       "      <th>SVS-GT2B_TEMPERATURE</th>\n",
       "      <th>SVS-GT3A_TEMPERATURE</th>\n",
       "      <th>SVS-GT3B_TEMPERATURE</th>\n",
       "    </tr>\n",
       "    <tr>\n",
       "      <th>Timestamp</th>\n",
       "      <th></th>\n",
       "      <th></th>\n",
       "      <th></th>\n",
       "      <th></th>\n",
       "    </tr>\n",
       "  </thead>\n",
       "  <tbody>\n",
       "    <tr>\n",
       "      <th>2021-09-01 00:00:02</th>\n",
       "      <td>54.7</td>\n",
       "      <td>54.6</td>\n",
       "      <td>46.9</td>\n",
       "      <td>46.5</td>\n",
       "    </tr>\n",
       "    <tr>\n",
       "      <th>2021-09-01 00:00:12</th>\n",
       "      <td>54.7</td>\n",
       "      <td>54.6</td>\n",
       "      <td>46.9</td>\n",
       "      <td>46.5</td>\n",
       "    </tr>\n",
       "    <tr>\n",
       "      <th>2021-09-01 00:00:22</th>\n",
       "      <td>54.7</td>\n",
       "      <td>54.6</td>\n",
       "      <td>46.9</td>\n",
       "      <td>46.5</td>\n",
       "    </tr>\n",
       "    <tr>\n",
       "      <th>2021-09-01 00:00:32</th>\n",
       "      <td>54.7</td>\n",
       "      <td>54.6</td>\n",
       "      <td>46.9</td>\n",
       "      <td>46.5</td>\n",
       "    </tr>\n",
       "    <tr>\n",
       "      <th>2021-09-01 00:00:42</th>\n",
       "      <td>54.7</td>\n",
       "      <td>54.6</td>\n",
       "      <td>46.9</td>\n",
       "      <td>46.5</td>\n",
       "    </tr>\n",
       "  </tbody>\n",
       "</table>\n",
       "</div>"
      ],
      "text/plain": [
       "Channel Name         SVS-GT2A_TEMPERATURE  SVS-GT2B_TEMPERATURE  \\\n",
       "Timestamp                                                         \n",
       "2021-09-01 00:00:02                  54.7                  54.6   \n",
       "2021-09-01 00:00:12                  54.7                  54.6   \n",
       "2021-09-01 00:00:22                  54.7                  54.6   \n",
       "2021-09-01 00:00:32                  54.7                  54.6   \n",
       "2021-09-01 00:00:42                  54.7                  54.6   \n",
       "\n",
       "Channel Name         SVS-GT3A_TEMPERATURE  SVS-GT3B_TEMPERATURE  \n",
       "Timestamp                                                        \n",
       "2021-09-01 00:00:02                  46.9                  46.5  \n",
       "2021-09-01 00:00:12                  46.9                  46.5  \n",
       "2021-09-01 00:00:22                  46.9                  46.5  \n",
       "2021-09-01 00:00:32                  46.9                  46.5  \n",
       "2021-09-01 00:00:42                  46.9                  46.5  "
      ]
     },
     "execution_count": 4,
     "metadata": {},
     "output_type": "execute_result"
    }
   ],
   "source": [
    "df=import_file('mult_data.csv')\n",
    "df.head(5)"
   ]
  },
  {
   "cell_type": "code",
   "execution_count": null,
   "id": "b211c7f4-5a6c-4f54-aa13-ecf5118aabe5",
   "metadata": {},
   "outputs": [],
   "source": []
  },
  {
   "cell_type": "code",
   "execution_count": null,
   "id": "4d6c6d00-219a-42ba-b3f2-799d2cb32216",
   "metadata": {},
   "outputs": [],
   "source": []
  },
  {
   "cell_type": "code",
   "execution_count": null,
   "id": "50fde871-ee06-40bb-820d-f20dcb24a58c",
   "metadata": {},
   "outputs": [],
   "source": []
  },
  {
   "cell_type": "code",
   "execution_count": null,
   "id": "d448a83b-a988-48de-9dcb-9c057a9d88fd",
   "metadata": {},
   "outputs": [],
   "source": []
  },
  {
   "cell_type": "markdown",
   "id": "b86f4c68-bf76-40fe-8451-d3a98fb82b47",
   "metadata": {},
   "source": [
    "\n"
   ]
  },
  {
   "cell_type": "code",
   "execution_count": null,
   "id": "de8f5c4e-cbdb-4733-b63e-a136de015945",
   "metadata": {},
   "outputs": [],
   "source": []
  },
  {
   "cell_type": "code",
   "execution_count": null,
   "id": "28d2a85b-8e98-4b11-ba8a-1d494f99cb56",
   "metadata": {},
   "outputs": [],
   "source": []
  },
  {
   "cell_type": "code",
   "execution_count": 5,
   "id": "071c8b6f-cddd-489f-be03-d8c33f042d61",
   "metadata": {},
   "outputs": [
    {
     "ename": "NameError",
     "evalue": "name 'flow_rate' is not defined",
     "output_type": "error",
     "traceback": [
      "\u001b[1;31m---------------------------------------------------------------------------\u001b[0m",
      "\u001b[1;31mNameError\u001b[0m                                 Traceback (most recent call last)",
      "\u001b[1;32m~\\AppData\\Local\\Temp/ipykernel_10644/1691352222.py\u001b[0m in \u001b[0;36m<module>\u001b[1;34m\u001b[0m\n\u001b[0;32m      3\u001b[0m \u001b[0mrho\u001b[0m \u001b[1;33m=\u001b[0m \u001b[1;36m969\u001b[0m \u001b[1;31m# For 30% Propylene, But varies with temp.\u001b[0m\u001b[1;33m\u001b[0m\u001b[1;33m\u001b[0m\u001b[0m\n\u001b[0;32m      4\u001b[0m \u001b[1;33m\u001b[0m\u001b[0m\n\u001b[1;32m----> 5\u001b[1;33m \u001b[0mQ\u001b[0m \u001b[1;33m=\u001b[0m  \u001b[0mrho\u001b[0m\u001b[1;33m*\u001b[0m\u001b[0mflow_rate\u001b[0m\u001b[1;33m*\u001b[0m\u001b[0mcp\u001b[0m\u001b[1;33m*\u001b[0m\u001b[0mdt\u001b[0m\u001b[1;33m\u001b[0m\u001b[1;33m\u001b[0m\u001b[0m\n\u001b[0m",
      "\u001b[1;31mNameError\u001b[0m: name 'flow_rate' is not defined"
     ]
    }
   ],
   "source": [
    "# VAD ÄR Cp & rho??\n",
    "cp = 3915\n",
    "rho = 969 # For 30% Propylene, But varies with temp. \n",
    "\n",
    "Q =  rho*flow_rate*cp*dt\n"
   ]
  },
  {
   "cell_type": "code",
   "execution_count": null,
   "id": "77d6191a-145d-4ab7-a94a-1b35c494d9d5",
   "metadata": {},
   "outputs": [],
   "source": [
    "fig = px.line(newFrame, x= \"Timestamp\", y=Q, labels={\"y\": \"Q\"})\n",
    "fig.show()"
   ]
  },
  {
   "cell_type": "code",
   "execution_count": null,
   "id": "c2733208-6335-4470-8354-7adb7bfca932",
   "metadata": {},
   "outputs": [],
   "source": [
    "\n"
   ]
  },
  {
   "cell_type": "code",
   "execution_count": null,
   "id": "b74c5715-f15d-4699-996c-177262831968",
   "metadata": {},
   "outputs": [],
   "source": []
  },
  {
   "cell_type": "code",
   "execution_count": 6,
   "id": "5fc1437c-e2d7-493c-9cde-854642c03b33",
   "metadata": {},
   "outputs": [
    {
     "ename": "KeyError",
     "evalue": "'Timestamp'",
     "output_type": "error",
     "traceback": [
      "\u001b[1;31m---------------------------------------------------------------------------\u001b[0m",
      "\u001b[1;31mKeyError\u001b[0m                                  Traceback (most recent call last)",
      "\u001b[1;32m~\\Anaconda3\\lib\\site-packages\\pandas\\core\\indexes\\base.py\u001b[0m in \u001b[0;36mget_loc\u001b[1;34m(self, key, method, tolerance)\u001b[0m\n\u001b[0;32m   3620\u001b[0m             \u001b[1;32mtry\u001b[0m\u001b[1;33m:\u001b[0m\u001b[1;33m\u001b[0m\u001b[1;33m\u001b[0m\u001b[0m\n\u001b[1;32m-> 3621\u001b[1;33m                 \u001b[1;32mreturn\u001b[0m \u001b[0mself\u001b[0m\u001b[1;33m.\u001b[0m\u001b[0m_engine\u001b[0m\u001b[1;33m.\u001b[0m\u001b[0mget_loc\u001b[0m\u001b[1;33m(\u001b[0m\u001b[0mcasted_key\u001b[0m\u001b[1;33m)\u001b[0m\u001b[1;33m\u001b[0m\u001b[1;33m\u001b[0m\u001b[0m\n\u001b[0m\u001b[0;32m   3622\u001b[0m             \u001b[1;32mexcept\u001b[0m \u001b[0mKeyError\u001b[0m \u001b[1;32mas\u001b[0m \u001b[0merr\u001b[0m\u001b[1;33m:\u001b[0m\u001b[1;33m\u001b[0m\u001b[1;33m\u001b[0m\u001b[0m\n",
      "\u001b[1;32m~\\Anaconda3\\lib\\site-packages\\pandas\\_libs\\index.pyx\u001b[0m in \u001b[0;36mpandas._libs.index.IndexEngine.get_loc\u001b[1;34m()\u001b[0m\n",
      "\u001b[1;32m~\\Anaconda3\\lib\\site-packages\\pandas\\_libs\\index.pyx\u001b[0m in \u001b[0;36mpandas._libs.index.IndexEngine.get_loc\u001b[1;34m()\u001b[0m\n",
      "\u001b[1;32mpandas\\_libs\\hashtable_class_helper.pxi\u001b[0m in \u001b[0;36mpandas._libs.hashtable.PyObjectHashTable.get_item\u001b[1;34m()\u001b[0m\n",
      "\u001b[1;32mpandas\\_libs\\hashtable_class_helper.pxi\u001b[0m in \u001b[0;36mpandas._libs.hashtable.PyObjectHashTable.get_item\u001b[1;34m()\u001b[0m\n",
      "\u001b[1;31mKeyError\u001b[0m: 'Timestamp'",
      "\nThe above exception was the direct cause of the following exception:\n",
      "\u001b[1;31mKeyError\u001b[0m                                  Traceback (most recent call last)",
      "\u001b[1;32m~\\AppData\\Local\\Temp/ipykernel_10644/2160590605.py\u001b[0m in \u001b[0;36m<module>\u001b[1;34m\u001b[0m\n\u001b[0;32m      1\u001b[0m \u001b[1;31m# (df[df[\"Channel Name\"] == 'SVS_MEAN_DNI'][\"Value\"])\u001b[0m\u001b[1;33m\u001b[0m\u001b[1;33m\u001b[0m\u001b[1;33m\u001b[0m\u001b[0m\n\u001b[0;32m      2\u001b[0m \u001b[1;33m\u001b[0m\u001b[0m\n\u001b[1;32m----> 3\u001b[1;33m fig = px.line(x=df[\"Timestamp\"].unique(), y=df[df[\"Channel Name\"] == 'SVS_MEAN_DNI'][\"Value\"],\n\u001b[0m\u001b[0;32m      4\u001b[0m              labels={'x':'Timeline','y':'Mean DNI'})\n\u001b[0;32m      5\u001b[0m \u001b[1;33m\u001b[0m\u001b[0m\n",
      "\u001b[1;32m~\\Anaconda3\\lib\\site-packages\\pandas\\core\\frame.py\u001b[0m in \u001b[0;36m__getitem__\u001b[1;34m(self, key)\u001b[0m\n\u001b[0;32m   3503\u001b[0m             \u001b[1;32mif\u001b[0m \u001b[0mself\u001b[0m\u001b[1;33m.\u001b[0m\u001b[0mcolumns\u001b[0m\u001b[1;33m.\u001b[0m\u001b[0mnlevels\u001b[0m \u001b[1;33m>\u001b[0m \u001b[1;36m1\u001b[0m\u001b[1;33m:\u001b[0m\u001b[1;33m\u001b[0m\u001b[1;33m\u001b[0m\u001b[0m\n\u001b[0;32m   3504\u001b[0m                 \u001b[1;32mreturn\u001b[0m \u001b[0mself\u001b[0m\u001b[1;33m.\u001b[0m\u001b[0m_getitem_multilevel\u001b[0m\u001b[1;33m(\u001b[0m\u001b[0mkey\u001b[0m\u001b[1;33m)\u001b[0m\u001b[1;33m\u001b[0m\u001b[1;33m\u001b[0m\u001b[0m\n\u001b[1;32m-> 3505\u001b[1;33m             \u001b[0mindexer\u001b[0m \u001b[1;33m=\u001b[0m \u001b[0mself\u001b[0m\u001b[1;33m.\u001b[0m\u001b[0mcolumns\u001b[0m\u001b[1;33m.\u001b[0m\u001b[0mget_loc\u001b[0m\u001b[1;33m(\u001b[0m\u001b[0mkey\u001b[0m\u001b[1;33m)\u001b[0m\u001b[1;33m\u001b[0m\u001b[1;33m\u001b[0m\u001b[0m\n\u001b[0m\u001b[0;32m   3506\u001b[0m             \u001b[1;32mif\u001b[0m \u001b[0mis_integer\u001b[0m\u001b[1;33m(\u001b[0m\u001b[0mindexer\u001b[0m\u001b[1;33m)\u001b[0m\u001b[1;33m:\u001b[0m\u001b[1;33m\u001b[0m\u001b[1;33m\u001b[0m\u001b[0m\n\u001b[0;32m   3507\u001b[0m                 \u001b[0mindexer\u001b[0m \u001b[1;33m=\u001b[0m \u001b[1;33m[\u001b[0m\u001b[0mindexer\u001b[0m\u001b[1;33m]\u001b[0m\u001b[1;33m\u001b[0m\u001b[1;33m\u001b[0m\u001b[0m\n",
      "\u001b[1;32m~\\Anaconda3\\lib\\site-packages\\pandas\\core\\indexes\\base.py\u001b[0m in \u001b[0;36mget_loc\u001b[1;34m(self, key, method, tolerance)\u001b[0m\n\u001b[0;32m   3621\u001b[0m                 \u001b[1;32mreturn\u001b[0m \u001b[0mself\u001b[0m\u001b[1;33m.\u001b[0m\u001b[0m_engine\u001b[0m\u001b[1;33m.\u001b[0m\u001b[0mget_loc\u001b[0m\u001b[1;33m(\u001b[0m\u001b[0mcasted_key\u001b[0m\u001b[1;33m)\u001b[0m\u001b[1;33m\u001b[0m\u001b[1;33m\u001b[0m\u001b[0m\n\u001b[0;32m   3622\u001b[0m             \u001b[1;32mexcept\u001b[0m \u001b[0mKeyError\u001b[0m \u001b[1;32mas\u001b[0m \u001b[0merr\u001b[0m\u001b[1;33m:\u001b[0m\u001b[1;33m\u001b[0m\u001b[1;33m\u001b[0m\u001b[0m\n\u001b[1;32m-> 3623\u001b[1;33m                 \u001b[1;32mraise\u001b[0m \u001b[0mKeyError\u001b[0m\u001b[1;33m(\u001b[0m\u001b[0mkey\u001b[0m\u001b[1;33m)\u001b[0m \u001b[1;32mfrom\u001b[0m \u001b[0merr\u001b[0m\u001b[1;33m\u001b[0m\u001b[1;33m\u001b[0m\u001b[0m\n\u001b[0m\u001b[0;32m   3624\u001b[0m             \u001b[1;32mexcept\u001b[0m \u001b[0mTypeError\u001b[0m\u001b[1;33m:\u001b[0m\u001b[1;33m\u001b[0m\u001b[1;33m\u001b[0m\u001b[0m\n\u001b[0;32m   3625\u001b[0m                 \u001b[1;31m# If we have a listlike key, _check_indexing_error will raise\u001b[0m\u001b[1;33m\u001b[0m\u001b[1;33m\u001b[0m\u001b[1;33m\u001b[0m\u001b[0m\n",
      "\u001b[1;31mKeyError\u001b[0m: 'Timestamp'"
     ]
    }
   ],
   "source": [
    "# (df[df[\"Channel Name\"] == 'SVS_MEAN_DNI'][\"Value\"])\n",
    "\n",
    "fig = px.line(x=df[\"Timestamp\"].unique(), y=df[df[\"Channel Name\"] == 'SVS_MEAN_DNI'][\"Value\"],\n",
    "             labels={'x':'Timeline','y':'Mean DNI'})\n",
    "\n",
    "fig.show()"
   ]
  },
  {
   "cell_type": "code",
   "execution_count": 7,
   "id": "40e59dfc-ad36-41e5-ae17-1a4691468df6",
   "metadata": {},
   "outputs": [],
   "source": [
    "# Attempt to get DHI vs. time plot\n",
    "import os\n",
    "import itertools\n",
    "import matplotlib.pyplot as plt\n",
    "import pandas as pd\n",
    "import pvlib\n",
    "\n",
    "from pvlib.location import Location\n",
    "from pvlib.iotools import read_tmy3\n",
    "\n"
   ]
  },
  {
   "cell_type": "code",
   "execution_count": null,
   "id": "909cc20a-a0ea-433d-8f05-c78a47a48ba3",
   "metadata": {},
   "outputs": [],
   "source": [
    "from pvlib import clearsky, atmosphere, solarposition\n",
    "from pvlib.location import Location\n",
    "\n",
    "hsand = Location(62.632, 17.937, 'Europe/Stockholm')\n",
    "times = pd.date_range(start='2021-09-01', end='2021-09-09', freq='1h', tz=hsand.tz)\n",
    "cs = hsand.get_clearsky(times)  # ineichen with climatology table by default"
   ]
  },
  {
   "cell_type": "markdown",
   "id": "13d557dd-d672-4c94-8e54-53b8168272f6",
   "metadata": {},
   "source": [
    "## VALIDATION \n",
    "\n",
    "Validation includes: \"Data type (ex. integer, float, string)\n",
    "Range (ex. A number between 35-40)\n",
    "Uniqueness (ex. Postal code)\n",
    "Consistent expressions (ex. Using one of St., Str, Street)\n",
    "No null values\"\n"
   ]
  },
  {
   "cell_type": "code",
   "execution_count": null,
   "id": "a74b7e11-7b05-4ce6-98d8-8707e1df0fb9",
   "metadata": {},
   "outputs": [],
   "source": []
  },
  {
   "cell_type": "code",
   "execution_count": null,
   "id": "79e07574-fd2c-4671-b4b7-2b5cefa0e073",
   "metadata": {},
   "outputs": [],
   "source": []
  },
  {
   "cell_type": "code",
   "execution_count": null,
   "id": "3c4c17e2-af21-417d-b787-40b04c777ddc",
   "metadata": {},
   "outputs": [],
   "source": [
    "import matplotlib.pyplot as plt\n",
    "cs[\"dni\"].plot(label = \"DNI\")\n",
    "cs[\"ghi\"].plot(label = \"GHI\")\n",
    "cs[\"dhi\"].plot(label = \"DHI\")\n",
    "plt.legend()\n",
    "plt.ylabel('Irradiance $W/m^2$');\n",
    "plt.title('Ineichen, climatological turbidity');"
   ]
  },
  {
   "cell_type": "code",
   "execution_count": null,
   "id": "b74ce3b5-319b-4d7b-bfa0-8d542159e610",
   "metadata": {},
   "outputs": [],
   "source": [
    "measured_DNI = df[df[\"Channel Name\"] == 'SVS_MEAN_DNI'][\"Value\"]\n",
    "modeled_DNI = cs[\"dni\"][0:-1]\n",
    "modeled_GHI = cs[\"ghi\"][0:-1]\n",
    "fig = px.line(x=df[\"Timestamp\"].unique(), y=[modeled_DNI,measured_DNI],\n",
    "             labels={\"x\": \"Timestamp\", \"value\": \"Irradiance W/m2\", \"modeled_DNI\":\"Modelled DNI, sunny whether\",\n",
    "                    \"measured_DNI\":\"Measured Mean\", \"y[0]\": \"Model\"})\n",
    "\n",
    "fig.show()"
   ]
  },
  {
   "cell_type": "code",
   "execution_count": null,
   "id": "d75b62d7-3e6d-44cd-9245-35d4161c398c",
   "metadata": {},
   "outputs": [],
   "source": []
  },
  {
   "cell_type": "code",
   "execution_count": null,
   "id": "83de0d47-8908-47ef-a8da-db09237b7378",
   "metadata": {},
   "outputs": [],
   "source": []
  },
  {
   "cell_type": "code",
   "execution_count": null,
   "id": "94e15675-4211-4e19-8e28-2a6d9893c90f",
   "metadata": {},
   "outputs": [],
   "source": []
  },
  {
   "cell_type": "code",
   "execution_count": null,
   "id": "c0d7341b-8c6d-4a89-b419-29356a96969e",
   "metadata": {},
   "outputs": [],
   "source": []
  },
  {
   "cell_type": "code",
   "execution_count": null,
   "id": "700b665d-c9bc-4318-b79b-e25568f2a7c8",
   "metadata": {},
   "outputs": [],
   "source": []
  },
  {
   "cell_type": "code",
   "execution_count": null,
   "id": "a71e2484-5315-4ff2-bee1-b59994334bdb",
   "metadata": {},
   "outputs": [],
   "source": []
  },
  {
   "cell_type": "markdown",
   "id": "d823c81d-caf2-4f02-8c37-608cf79ff284",
   "metadata": {},
   "source": [
    "$$\n",
    "\\dot{Q}  = \\dot{m}* c_p * \\Delta T = \\rho *\\dot{V} * c_{cp} * \\Delta T\n",
    "$$\n",
    "$$\n",
    "\\Delta T = T_{in} - T_{out}dot{V}\n",
    "$$\n",
    "\n",
    "$m$ = Mass flowrate of fluid\n",
    "\n",
    "$C_p$ = Specific heat capacity = 12.9 kJkg$^{-1}$K$^{-1}$ (enligt testpapper) ?\n",
    "\n",
    "\n",
    "the specific heat capacity of water is 4184 J⋅kg−1⋅K−1"
   ]
  },
  {
   "cell_type": "markdown",
   "id": "2d7c0d31-dcf3-4bee-891c-74c5f0999499",
   "metadata": {},
   "source": [
    "Sen: \n",
    "- Kika närmare på parametrar\n",
    "- Hur ser datastream ut? Behöver vi något filter? (low pass, etc?)\n",
    "- Validera data\n",
    "- Implementera ekvationer. \n",
    "- Hitta en fin, solig dag. Försök återskapa Dashboard data."
   ]
  },
  {
   "cell_type": "code",
   "execution_count": null,
   "id": "2cc4b648-c116-49a8-acea-7e946b3c4582",
   "metadata": {},
   "outputs": [],
   "source": []
  },
  {
   "cell_type": "code",
   "execution_count": null,
   "id": "2d7d071e-b40e-4fc1-913a-b8a1d0d27ba8",
   "metadata": {},
   "outputs": [],
   "source": []
  },
  {
   "cell_type": "code",
   "execution_count": null,
   "id": "f54473f2-c4aa-493d-8860-c27093e85d90",
   "metadata": {},
   "outputs": [],
   "source": []
  },
  {
   "cell_type": "code",
   "execution_count": null,
   "id": "a98e27f4-bb6f-404b-8f16-322eb791d53c",
   "metadata": {},
   "outputs": [],
   "source": []
  },
  {
   "cell_type": "code",
   "execution_count": null,
   "id": "56252b42-394d-4777-908e-5b202a4967cc",
   "metadata": {},
   "outputs": [],
   "source": []
  },
  {
   "cell_type": "markdown",
   "id": "a46814b4-94d5-45ca-8db0-c097bb1716bb",
   "metadata": {},
   "source": [
    "### Fit data to QDT equation\n",
    "\n",
    "The extracted power $\\dot{Q}$ is in accordance to the quasi dynamic test method for liquid heating collectors modelled as\n",
    "$$\n",
    "\\dot{Q}=A_{\\mathrm{G}}\\left[\\begin{array}{l} \\eta_{0, \\mathrm{~b}} K_{\\mathrm{b}}\\left(\\theta_{\\mathrm{L}}, \\theta_{\\mathrm{T}}\\right) G_{\\mathrm{b}}+\\eta_{0, \\mathrm{~b}} K_{\\mathrm{d}} G_{\\mathrm{d}}-a_{1}\\left(\\vartheta_{\\mathrm{m}}-\\vartheta_{\\mathrm{a}}\\right)-a_{2}\\left(\\vartheta_{\\mathrm{m}}-\\vartheta_{a}\\right)^{2}-a_{3} u^{\\prime}\\left(\\vartheta_{\\mathrm{m}}-\\vartheta_{\\mathrm{a}}\\right)+ \\\\\n",
    "a_{4}\\left(E_{\\mathrm{L}}-\\sigma T_{\\mathrm{a}}^{4}\\right)-a_{5}\\left(d \\vartheta_{\\mathrm{m}} / d t\\right)-a_{6} u^{\\prime} G-a_{7} u^{\\prime}\\left(E_{\\mathrm{L}}-\\sigma T_{\\mathrm{a}}^{4}\\right)-a_{8}\\left(\\vartheta_{\\mathrm{m}}-\\vartheta_{\\mathrm{a}}\\right)^{4}\n",
    "\\end{array}\\right].\n",
    "$$\n",
    "\n",
    "Where parameters as given by the Solar Keymark test for induvidual collectors are given by \n",
    "\n",
    "|$A_G$|$\\eta_{0,b}$|$a_1$|$a_2$|$a_1$|$a_3$|$a_4$|$a_5$|$a_6$|$a_7$|$a_8$|$K_d$|\n",
    "|---|---|---|---|---|---|---|---|---|---|---|---|\n",
    "|6.04|0.697|0.73|0.000|0.000|0.000|0.00|0|0.000|0.00|0.00|0.12|"
   ]
  },
  {
   "cell_type": "markdown",
   "id": "aa4a669b-df77-4c4f-8c21-b26c5149ff16",
   "metadata": {},
   "source": [
    "$K_b$, $G_b$, $G_d$, $\\vartheta_{\\mathrm{m}}, \\vartheta_{\\mathrm{a}}$ from data. Need to calculate $K_{\\mathrm{b}}\\left(\\theta_{\\mathrm{L}}, \\theta_{\\mathrm{T}}\\right)$, behöver här en solpositionsperäkning. Behöver alltså theta, dvs. vinkel mot solfångarutan. "
   ]
  },
  {
   "cell_type": "markdown",
   "id": "732cea34-8948-4f53-9045-0515b5016c26",
   "metadata": {},
   "source": [
    "From given table, simplify the power equation to \n",
    "\n",
    "\n",
    "$$\n",
    "\\dot{Q} = A_{\\mathrm{G}} \\left( \\eta_{0, \\mathrm{~b}} K_{\\mathrm{b}}\\left(\\theta_{\\mathrm{L}}, \\theta_{\\mathrm{T}}\\right) G_{\\mathrm{b}}+\\eta_{0, \\mathrm{~b}} K_{\\mathrm{d}} G_{\\mathrm{d}}-a_{1}\\left(\\vartheta_{\\mathrm{m}}-\\vartheta_{\\mathrm{a}}\\right)  \\right)\n",
    "$$"
   ]
  },
  {
   "cell_type": "code",
   "execution_count": null,
   "id": "273ae357-4d79-49f6-ba01-2f13370b0e77",
   "metadata": {},
   "outputs": [],
   "source": [
    "a1, a2, a3, a4, a5,a6,a7,a8, Kd = 0.73, 0.000, 0.000, 0.00, 0, 0.000, 0.00, 0.00, 0.12\n",
    "Ag,etab = 6.04,0.697"
   ]
  },
  {
   "cell_type": "code",
   "execution_count": null,
   "id": "16aa3742-7e2c-4967-9d67-73c376817311",
   "metadata": {},
   "outputs": [],
   "source": [
    "# Behöver en funktion för att få till Kb(thetaL,thetaT) som funktion av tid? "
   ]
  },
  {
   "cell_type": "code",
   "execution_count": null,
   "id": "eb7d37e2-9479-49b9-8348-51c98629c2f8",
   "metadata": {},
   "outputs": [],
   "source": [
    "Kb = 1 # BARA HITTEPÅ. ÄNDRA DETTA DELUXE\n",
    "# Ta in: Temp in, ut, amb, Gd, Gb, angles?? Eller hur får vi infallsvinkel theta?\n",
    "\n",
    "Q_simpleModel = Ag*(etab*Kb*Gb + etab*Kd*Gd -a1*(Tm-Ta) - a2*(Tm-Ta)**2)\n"
   ]
  },
  {
   "cell_type": "code",
   "execution_count": null,
   "id": "7c6f1559-5c52-4623-948a-56927b63f3c2",
   "metadata": {},
   "outputs": [],
   "source": []
  },
  {
   "cell_type": "code",
   "execution_count": null,
   "id": "f83d627f-fc5d-4cef-bf88-67a0a104ab64",
   "metadata": {},
   "outputs": [],
   "source": []
  },
  {
   "cell_type": "code",
   "execution_count": null,
   "id": "0ab1a18e-5a06-4d9f-a138-d44ab22180bc",
   "metadata": {},
   "outputs": [],
   "source": []
  },
  {
   "cell_type": "code",
   "execution_count": null,
   "id": "b7e64270-4b31-4791-bac7-ea57f7cbc026",
   "metadata": {},
   "outputs": [],
   "source": [
    "# Kika lite på temperaturer\n",
    "filename='Feb28GT.csv'\n",
    "df = pd.read_csv(filename).pivot(index = 'Timestamp', columns = 'Channel Name', values = 'Value')\n",
    "\n",
    "df['GT1_mean'] = df[df.columns[:8]].mean(axis=1)\n",
    "fig = px.line(df, x=df.index, y=df.columns[:8],\n",
    "              labels={'value': 'Temperature'})\n",
    "fig.show()"
   ]
  },
  {
   "cell_type": "code",
   "execution_count": null,
   "id": "e0c5a3ea-fb07-44fc-8516-6e9eb94eec0b",
   "metadata": {},
   "outputs": [],
   "source": []
  },
  {
   "cell_type": "code",
   "execution_count": null,
   "id": "5cf46dc5-b671-4072-a706-cf5940419acd",
   "metadata": {},
   "outputs": [],
   "source": []
  },
  {
   "cell_type": "code",
   "execution_count": null,
   "id": "d2ed9b5c-5cc4-4493-b093-ba5714d14842",
   "metadata": {},
   "outputs": [],
   "source": [
    "df_max = pd.DataFrame({'Channel':df[df.columns[:8]].idxmax(axis=1),'Value':df[df.columns[:8]].max(axis=1)})\n",
    "#df = px.data.gapminder().query(\"continent=='Oceania'\")\n",
    "df_max.describe()"
   ]
  },
  {
   "cell_type": "code",
   "execution_count": null,
   "id": "97b36fbd-9a36-4103-ab05-87661edfb003",
   "metadata": {},
   "outputs": [],
   "source": [
    "fig = px.histogram(df_max, x = 'Channel')\n",
    "#scatter(df_max, x=df_max.index, y=\"Value\", color='Channel')\n",
    "fig.show()"
   ]
  },
  {
   "cell_type": "code",
   "execution_count": null,
   "id": "03b3b264-2526-4cdf-969a-52353ffa165b",
   "metadata": {},
   "outputs": [],
   "source": [
    "GT1,GT2 = np.array(df['SVS-GT1:1_TEMPERATURE']),np.array(df['SVS-GT1:2_TEMPERATURE'])\n",
    "GT3,GT4 = np.array(df['SVS-GT1:3_TEMPERATURE']),np.array(df['SVS-GT1:4_TEMPERATURE'])\n",
    "GT5,GT6 = np.array(df['SVS-GT1:5_TEMPERATURE']),np.array(df['SVS-GT1:6_TEMPERATURE'])"
   ]
  },
  {
   "cell_type": "code",
   "execution_count": null,
   "id": "f79d67d0-feab-4e78-a725-acfc6d415097",
   "metadata": {},
   "outputs": [],
   "source": [
    "from scipy.stats import f_oneway\n",
    "\n",
    "# compare samples\n",
    "stat, p = f_oneway(GT1,GT2,GT3)\n",
    "print('Statistics=%.3f, p=%.3f' % (stat, p))\n",
    "# interpret\n",
    "alpha = 0.05\n",
    "if p > alpha:\n",
    "    print('Same distributions (fail to reject H0)')\n",
    "else:\n",
    "    print('Different distributions (reject H0)')"
   ]
  },
  {
   "cell_type": "code",
   "execution_count": null,
   "id": "4b7db699-2993-4c4c-8813-f6a35eee7058",
   "metadata": {},
   "outputs": [],
   "source": []
  },
  {
   "cell_type": "code",
   "execution_count": null,
   "id": "acbf7f71-725b-4d4b-bf9a-5fc723dfdb80",
   "metadata": {},
   "outputs": [],
   "source": []
  },
  {
   "cell_type": "code",
   "execution_count": null,
   "id": "785a9d7d-845d-4d96-9d96-4dcf19d447f4",
   "metadata": {},
   "outputs": [],
   "source": []
  },
  {
   "cell_type": "code",
   "execution_count": null,
   "id": "0170c5b5-5c04-4cb5-a823-24cf5a2a1ab4",
   "metadata": {},
   "outputs": [],
   "source": []
  },
  {
   "cell_type": "markdown",
   "id": "062b609a-e617-4922-8d4e-3b4a75f70342",
   "metadata": {},
   "source": []
  },
  {
   "cell_type": "code",
   "execution_count": null,
   "id": "12d215b0-e204-43ed-8c18-9882c05483f1",
   "metadata": {},
   "outputs": [],
   "source": [
    "QDT_IAM = [1.00, 0.99, 0.98, 0.96, 0.90, 0.80, 0.64,\n",
    "           0.43, 0.21, 0.00]\n",
    "\n",
    "Angles = [0, 10, 20, 30, 40, 50, 60, 70, 80, 90]\n",
    "\n",
    "fig, ((ax1, ax2), (ax3, ax4)) = plt.subplots(2, 2, figsize=(10, 8))\n",
    "fig.suptitle('QDT and polyfit')\n",
    "\n",
    "degrees = np.arange(1,5)\n",
    "for (deg, ax) in zip(degrees, fig.get_axes()):\n",
    "    k = np.polyfit(Angles,QDT_IAM,deg)\n",
    "    #Evaluating New ydata\n",
    "    y=np.polyval(k,Angles)\n",
    "\n",
    "    Y = lambda Angles: np.polyval(k,Angles)\n",
    "    sum_of_residuals = sum((Y(Angles) - QDT_IAM)**2)\n",
    "    RSE = np.sqrt(sum_of_residuals/(len(Angles)-2))\n",
    "    print('Sum of residuals for polynomial degree {0} is {1}'.format(deg, sum_of_residuals))\n",
    "    print('Residual Standar Error for polynomial degree {0} is {1}'.format(deg, RSE))\n",
    "    \n",
    "    ax.scatter(Angles,QDT_IAM,150,label='original data')\n",
    "    ax.plot(Angles,Y(Angles),'r:',label=' fit of deg ={}'.format(deg))\n",
    "    \n",
    "    ax.grid(axis='both',which='major',color=[166/255,166/255,166/255], linestyle='-', linewidth=1)\n",
    "    #ax.minorticks_on()\n",
    "    #ax.grid(axis='both',which='minor',color=[166/255,166/255,166/255,0.4], linestyle=':', linewidth=0.5)\n",
    "    ax.scatter(45,Y(45),100,label='$\\theta$ = {}'.format(45))\n",
    "        \n",
    "    ax.legend()\n",
    "    ax.set_ylabel('IAM')\n",
    "    ax.set_xlabel('Incidence angle')\n",
    "    \n"
   ]
  },
  {
   "cell_type": "code",
   "execution_count": null,
   "id": "792224fe-e810-4dad-9630-f2599c084732",
   "metadata": {},
   "outputs": [],
   "source": [
    "import statsmodels.api as sm\n",
    "\n",
    "#define response variable\n",
    "y = Angles\n",
    "\n",
    "#define predictor variables\n",
    "x = [QDT_IAM,Y(Angles)]\n",
    "\n",
    "#add constant to predictor variables\n",
    "x = sm.add_constant(x)\n",
    "\n",
    "#fit linear regression model\n",
    "#model = sm.OLS(y, x).fit()\n",
    "\n",
    "X = np.array([float(x) for x in Angles])\n",
    "X"
   ]
  },
  {
   "cell_type": "markdown",
   "id": "4559f504-e1a8-4d5e-adbc-3b6350186a35",
   "metadata": {},
   "source": [
    "$$\n",
    "\\text {Residual Rum of Squares (RSS) }=\\sum_{i=1}^{n}\\left(y_{i}-\\hat{y}_{i}\\right)^{2}\n",
    "$$\n",
    "$$\n",
    "\\text{Residual Standar Error (RSE)} = \\sqrt{\\frac{RSS}{n-2}}\n",
    "$$\n",
    "$(n=\\text{# of data points})$\n",
    "VAD ÄR \"BRA\" SUM OF RESIDUALS?"
   ]
  },
  {
   "cell_type": "code",
   "execution_count": null,
   "id": "690884f4-fc97-4592-8d99-7655b8889f4a",
   "metadata": {},
   "outputs": [],
   "source": [
    "QDT_IAM = [1.00, 0.99, 0.98, 0.96, 0.90, 0.80, 0.64,\n",
    "           0.43, 0.21, 0.00]\n",
    "SS_IAM = [1.00, 0.99, 0.99, 0.98, 0.96, 0.91, 0.77, 0.53, \n",
    "          0.18, 0.00]\n",
    "Angles = [0, 10, 20, 30, 40, 50, 60, 70, 80, 90] #zenith angles\n",
    "IAM_df = pd.DataFrame({#'Angle':Angles,\n",
    "                       'QDT-method':QDT_IAM,\n",
    "                      'SS-method':SS_IAM}, index = Angles)\n",
    "\n",
    "IAM_df.index.names = ['Angle']\n",
    "\n",
    "IAM_df.T"
   ]
  },
  {
   "cell_type": "code",
   "execution_count": null,
   "id": "109b38d7-83ee-4c37-aed5-e88007132df8",
   "metadata": {
    "tags": []
   },
   "outputs": [],
   "source": []
  },
  {
   "cell_type": "code",
   "execution_count": null,
   "id": "905de71a-70c0-4d03-89ff-6afac638bca3",
   "metadata": {},
   "outputs": [],
   "source": [
    "from pvlib import solarposition\n",
    "tz = 'Europe/Stockholm'\n",
    "lat, lon = 62.6329, 17.938 # degrees\n",
    "\n",
    "times = pd.date_range('2021-10-13 00:00:00', '2022-10-13 23:58:50', freq='10s', tz=tz)\n",
    "\n",
    "#times = pd.date_range('2019-01-01 00:00:00', '2020-01-01', closed='left',\n",
    " #                     freq='H', tz=tz)\n",
    "\n",
    "solpos = solarposition.get_solarposition(times, lat, lon)"
   ]
  },
  {
   "cell_type": "code",
   "execution_count": null,
   "id": "8cb6af52-5553-41ae-afe2-bb07aff98d24",
   "metadata": {},
   "outputs": [],
   "source": [
    "solpos"
   ]
  },
  {
   "cell_type": "code",
   "execution_count": null,
   "id": "823b8721-29cb-41c2-8ec7-3daba48830b7",
   "metadata": {},
   "outputs": [],
   "source": [
    "solpos['elevation'].plot()"
   ]
  },
  {
   "cell_type": "code",
   "execution_count": null,
   "id": "bd2ff9ca-88be-4218-9358-d6b075c8ce2f",
   "metadata": {},
   "outputs": [],
   "source": [
    "import numpy as np\n",
    "# curve-fit() function imported from scipy\n",
    "from scipy.optimize import curve_fit\n",
    " \n",
    "from matplotlib import pyplot as plt\n",
    " \n",
    "# numpy.linspace with the given arguments\n",
    "# produce an array of 40 numbers between 0\n",
    "# and 10, both inclusive\n",
    "x = np.linspace(0, 10, num = 40)\n",
    " \n",
    " \n",
    "# y is another array which stores 3.45 times\n",
    "# the sine of (values in x) * 1.334.\n",
    "# The random.normal() draws random sample\n",
    "# from normal (Gaussian) distribution to make\n",
    "# them scatter across the base line\n",
    "y = 3.45 * np.sin(1.334 * x) + np.random.normal(size = 40)\n",
    " \n",
    "# Test function with coefficients as parameters\n",
    "def test(x, a, b):\n",
    "    return a * np.sin(b * x)\n",
    " \n",
    "# curve_fit() function takes the test-function\n",
    "# x-data and y-data as argument and returns\n",
    "# the coefficients a and b in param and\n",
    "# the estimated covariance of param in param_cov\n",
    "param, param_cov = curve_fit(test, x, y)\n",
    " \n",
    "print(\"Sine function coefficients:\")\n",
    "print(param)\n",
    "print(\"Covariance of coefficients:\")\n",
    "print(param_cov)\n",
    " \n",
    "# ans stores the new y-data according to\n",
    "# the coefficients given by curve-fit() function\n",
    "ans = (param[0]*(np.sin(param[1]*x)))\n",
    " \n",
    "'''Below 4 lines can be un-commented for plotting results\n",
    "using matplotlib as shown in the first example. '''\n",
    " \n",
    "plt.plot(x, y, 'o', color ='red', label =\"data\")\n",
    "plt.plot(x, ans, '--', color ='blue', label =\"optimized data\")\n",
    "plt.legend()\n",
    "plt.show()"
   ]
  },
  {
   "cell_type": "code",
   "execution_count": null,
   "id": "c9e26688-4789-4eeb-a574-cc825f030c18",
   "metadata": {},
   "outputs": [],
   "source": []
  },
  {
   "cell_type": "code",
   "execution_count": null,
   "id": "933bbdb5-898c-44ee-bed7-befc8c8e569b",
   "metadata": {},
   "outputs": [],
   "source": []
  },
  {
   "cell_type": "code",
   "execution_count": null,
   "id": "a86c3a3e-dd21-4037-8ec8-7b3afabc8f17",
   "metadata": {},
   "outputs": [],
   "source": []
  },
  {
   "cell_type": "code",
   "execution_count": null,
   "id": "bd31b9ea-57ec-41cc-8408-916c1eeab7bd",
   "metadata": {},
   "outputs": [],
   "source": []
  },
  {
   "cell_type": "code",
   "execution_count": null,
   "id": "c1e32e08-d6ee-4554-8a21-740f57924a90",
   "metadata": {},
   "outputs": [],
   "source": []
  },
  {
   "cell_type": "code",
   "execution_count": null,
   "id": "e05509d8-9db8-44f6-9c29-9945735df39d",
   "metadata": {},
   "outputs": [],
   "source": []
  },
  {
   "cell_type": "code",
   "execution_count": null,
   "id": "e32a9ad6-1bfa-4717-b3fc-55296886e379",
   "metadata": {},
   "outputs": [],
   "source": [
    " "
   ]
  },
  {
   "cell_type": "code",
   "execution_count": null,
   "id": "9017fab1-a97a-4737-947e-9f91ba9010ee",
   "metadata": {},
   "outputs": [],
   "source": [
    "import matplotlib.pyplot as plt\n",
    "from scipy.optimize import curve_fit\n",
    "import numpy as np\n",
    "\n",
    "def func(x, a, b, c):\n",
    "    return a * np.exp(-b * x) + c\n",
    "\n",
    "xdata = np.linspace(0, 4, 50)\n",
    "y = func(xdata, 2.5, 1.3, 0.5)\n",
    "rng = np.random.default_rng()\n",
    "y_noise = 0.2 * rng.normal(size=xdata.size)\n",
    "ydata = y + y_noise\n",
    "plt.scatter(xdata, ydata, label='data')\n",
    "\n",
    "popt, pcov = curve_fit(func, xdata, ydata)\n",
    "plt.plot(xdata, func(xdata, *popt), 'r-',\n",
    "         label='fit: a=%5.3f, b=%5.3f, c=%5.3f' % tuple(popt))\n",
    "popt\n",
    "\n",
    "\n",
    "\n",
    "popt, pcov = curve_fit(func, xdata, ydata, bounds=(0, [3., 1., 0.5]))\n",
    "plt.plot(xdata, func(xdata, *popt), 'g--',\n",
    "         label='fit: a=%5.3f, b=%5.3f, c=%5.3f' % tuple(popt))\n",
    "\n",
    "plt.xlabel('x')\n",
    "plt.ylabel('y')\n",
    "plt.legend()\n",
    "plt.show()\n"
   ]
  },
  {
   "cell_type": "code",
   "execution_count": null,
   "id": "4a1994cd-e18f-45ab-9d05-5f12cd9965f1",
   "metadata": {},
   "outputs": [],
   "source": []
  },
  {
   "cell_type": "code",
   "execution_count": null,
   "id": "4691e57f-d31d-4ce8-ba57-8504a11beac7",
   "metadata": {},
   "outputs": [],
   "source": []
  },
  {
   "cell_type": "code",
   "execution_count": null,
   "id": "57d37c19-50cc-4235-af59-ee446432ed8f",
   "metadata": {},
   "outputs": [],
   "source": [
    "QDT_IAM = [1.00, 0.99, 0.98, 0.96, 0.90, 0.80, 0.64,\n",
    "           0.43, 0.21, 0.00]\n",
    "\n",
    "Angles = [0, 10, 20, 30, 40, 50, 60, 70, 80, 90]"
   ]
  },
  {
   "cell_type": "code",
   "execution_count": null,
   "id": "8210dc64-56fc-47c4-b44d-9a1e2711d868",
   "metadata": {},
   "outputs": [],
   "source": [
    "theta = np.array(Angles)*np.pi/180\n",
    "K = 1 - (np.tan(theta/2))**np.array(QDT_IAM)\n",
    "plt.plot(Angles,K,label='ISO eq.')\n",
    "plt.plot(Angles,IAM_df['QDT-method'],label='QDT-method')\n",
    "plt.plot(Angles,IAM_df['SS-method'],label = 'SS-method')\n",
    "plt.legend()\n",
    "plt.show()\n"
   ]
  },
  {
   "cell_type": "code",
   "execution_count": null,
   "id": "7b539b99-2183-4201-a155-fcd6ded742ad",
   "metadata": {},
   "outputs": [],
   "source": []
  },
  {
   "cell_type": "code",
   "execution_count": null,
   "id": "086c52f3-73d4-4103-986f-200ef3b4af06",
   "metadata": {},
   "outputs": [],
   "source": []
  }
 ],
 "metadata": {
  "kernelspec": {
   "display_name": "Python 3 (ipykernel)",
   "language": "python",
   "name": "python3"
  },
  "language_info": {
   "codemirror_mode": {
    "name": "ipython",
    "version": 3
   },
   "file_extension": ".py",
   "mimetype": "text/x-python",
   "name": "python",
   "nbconvert_exporter": "python",
   "pygments_lexer": "ipython3",
   "version": "3.8.12"
  }
 },
 "nbformat": 4,
 "nbformat_minor": 5
}
